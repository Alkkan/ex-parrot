{
 "cells": [
  {
   "cell_type": "code",
   "execution_count": 1,
   "metadata": {},
   "outputs": [],
   "source": [
    "text = \"hello world world\""
   ]
  },
  {
   "cell_type": "code",
   "execution_count": 2,
   "metadata": {},
   "outputs": [
    {
     "name": "stdout",
     "output_type": "stream",
     "text": [
      "False\n",
      "True\n",
      "<built-in method strip of str object at 0x0000027DBFAE4E30>\n"
     ]
    }
   ],
   "source": [
    "print (text.isdigit() )\n",
    "print ('1973'.isdigit())\n",
    "print ('1973' .strip)"
   ]
  },
  {
   "cell_type": "code",
   "execution_count": 3,
   "metadata": {},
   "outputs": [
    {
     "name": "stdout",
     "output_type": "stream",
     "text": [
      "   hello world world    \n",
      "hello world world\n"
     ]
    }
   ],
   "source": [
    "text = \"   hello world world    \"\n",
    "print (text)\n",
    "print (text.strip())"
   ]
  },
  {
   "cell_type": "code",
   "execution_count": 4,
   "metadata": {},
   "outputs": [
    {
     "name": "stdout",
     "output_type": "stream",
     "text": [
      "   hello\n",
      "world\n",
      "World    \n",
      "   hello world World    \n"
     ]
    }
   ],
   "source": [
    "text = \"   hello\\nworld\\nWorld    \"\n",
    "print (text)\n",
    "print (text.replace('\\n' , ' '))"
   ]
  },
  {
   "cell_type": "code",
   "execution_count": 5,
   "metadata": {},
   "outputs": [
    {
     "name": "stdout",
     "output_type": "stream",
     "text": [
      "MY NAME IS RYTIS, I LIVE IN VILNIUS\n",
      "my name is rytis, i live in vilnius\n",
      "My name is rytis, i live in vilnius\n",
      "0\n",
      "1\n",
      "11\n",
      "my name is \n",
      "my name is rytis\n"
     ]
    }
   ],
   "source": [
    "text_2 = 'my name is rytis, i live in vilnius'\n",
    "print( text_2.upper() )\n",
    "print( text_2.lower() )\n",
    "print( text_2. capitalize() )\n",
    "print( text_2.count('Vilnius') )\n",
    "print( text_2.lower().count('vilnius') )\n",
    "print (text_2.find('rytis'))\n",
    "print( text_2[0:text_2.find('rytis') ] )\n",
    "print( text_2[0:text_2.find('rytis') + len('rytis') ] )\n",
    "\n"
   ]
  },
  {
   "cell_type": "code",
   "execution_count": 6,
   "metadata": {},
   "outputs": [
    {
     "data": {
      "text/plain": [
       "'rytis juskaitis'"
      ]
     },
     "execution_count": 6,
     "metadata": {},
     "output_type": "execute_result"
    }
   ],
   "source": [
    "'rytis' + ' ' + \"juskaitis\""
   ]
  },
  {
   "cell_type": "code",
   "execution_count": 7,
   "metadata": {},
   "outputs": [
    {
     "data": {
      "text/plain": [
       "'hi hi hi hi hi hi hi hi hi hi hi hi hi hi hi hi hi hi hi hi hi hi hi hi hi hi hi hi hi hi hi hi hi hi hi hi hi hi hi hi hi hi hi hi hi hi hi hi hi hi hi hi hi hi hi hi hi hi hi hi hi hi hi hi hi hi hi hi hi hi hi hi hi hi hi hi hi hi hi hi hi hi hi hi hi hi hi hi hi hi hi hi hi hi hi hi hi hi hi hi '"
      ]
     },
     "execution_count": 7,
     "metadata": {},
     "output_type": "execute_result"
    }
   ],
   "source": [
    "'hi ' * 100"
   ]
  },
  {
   "cell_type": "code",
   "execution_count": 8,
   "metadata": {},
   "outputs": [],
   "source": [
    "### f-string "
   ]
  },
  {
   "cell_type": "code",
   "execution_count": 9,
   "metadata": {},
   "outputs": [
    {
     "name": "stdout",
     "output_type": "stream",
     "text": [
      "Rytis Juskaitis 51, nice to meet you! \n",
      "Rytis Juskaitis, nice to meet you!\n"
     ]
    }
   ],
   "source": [
    "name = 'Rytis'\n",
    "surname = 'Juskaitis'\n",
    "number = 51\n",
    "print( name + ' ' +surname + ' ' + str(number) + ', nice to meet you! ')\n",
    "print( f'{name} {surname}, nice to meet you!' )\n",
    "\n"
   ]
  },
  {
   "cell_type": "code",
   "execution_count": 10,
   "metadata": {},
   "outputs": [
    {
     "name": "stdout",
     "output_type": "stream",
     "text": [
      "Rytis\n",
      "Juskaitis\n"
     ]
    }
   ],
   "source": [
    "name = 'Rytis'\n",
    "surname = \"Juskaitis\"\n",
    "print(name)\n",
    "print(surname)"
   ]
  },
  {
   "cell_type": "code",
   "execution_count": 11,
   "metadata": {},
   "outputs": [
    {
     "name": "stdout",
     "output_type": "stream",
     "text": [
      "PYTHON MAKES ME REALLY REALLY HAPPY! \n"
     ]
    }
   ],
   "source": [
    "text = 'Python makes me really really happy! '\n",
    "print (text.upper())\n"
   ]
  },
  {
   "cell_type": "code",
   "execution_count": 12,
   "metadata": {},
   "outputs": [
    {
     "name": "stdout",
     "output_type": "stream",
     "text": [
      "happy\n",
      "happy\n"
     ]
    }
   ],
   "source": [
    "text = 'Hello world, i am happy to lear Python! '\n",
    "print(text[18:23])\n",
    "print(text[text.find('happy'):text.find('happy') + len('happy')])\n"
   ]
  },
  {
   "cell_type": "code",
   "execution_count": 13,
   "metadata": {},
   "outputs": [],
   "source": [
    "# Numbers"
   ]
  },
  {
   "cell_type": "code",
   "execution_count": 14,
   "metadata": {},
   "outputs": [],
   "source": [
    "number = 51684\n",
    "\n",
    "float_number = 1436.41\n",
    "float_number_2 = 1436"
   ]
  },
  {
   "cell_type": "code",
   "execution_count": 15,
   "metadata": {},
   "outputs": [
    {
     "name": "stdout",
     "output_type": "stream",
     "text": [
      "<class 'int'>\n",
      "<class 'float'>\n",
      "<class 'int'>\n"
     ]
    }
   ],
   "source": [
    "print ( type(number) )\n",
    "print ( type(float_number) )\n",
    "print ( type(float_number_2) )"
   ]
  },
  {
   "cell_type": "code",
   "execution_count": 16,
   "metadata": {},
   "outputs": [
    {
     "name": "stdout",
     "output_type": "stream",
     "text": [
      "53120.41 yra <class 'float'>\n",
      "5\n",
      "50\n",
      "2.0\n",
      "2\n",
      "3\n",
      "1\n",
      "2\n",
      "3\n",
      "4\n",
      "0\n"
     ]
    }
   ],
   "source": [
    "suma = number + float_number\n",
    "print (f'{suma} yra {type(suma)}')\n",
    "print (10 - 5)\n",
    "print (10 * 5)\n",
    "print (10 / 5)\n",
    "print ( 13 // 5)\n",
    "print (17 // 5)\n",
    "\n",
    "# liekana\n",
    "print (16 % 5)\n",
    "print (17 % 5)\n",
    "print (18 % 5)\n",
    "print (19 % 5)\n",
    "print (20 % 5)"
   ]
  },
  {
   "cell_type": "code",
   "execution_count": 17,
   "metadata": {},
   "outputs": [],
   "source": [
    "# int\n",
    "# float\n",
    "# str"
   ]
  },
  {
   "cell_type": "code",
   "execution_count": 18,
   "metadata": {},
   "outputs": [
    {
     "name": "stdout",
     "output_type": "stream",
     "text": [
      "4\n",
      "8\n",
      "16\n",
      "9\n"
     ]
    }
   ],
   "source": [
    "# kelimas laipsniu\n",
    "print( 2 ** 2 )\n",
    "print( 2 ** 3 )\n",
    "print( 2 ** 4 )\n",
    "print( 3 ** 2 )"
   ]
  },
  {
   "cell_type": "code",
   "execution_count": 19,
   "metadata": {},
   "outputs": [
    {
     "name": "stdout",
     "output_type": "stream",
     "text": [
      "15\n",
      "-5\n",
      "50\n",
      "0.5\n",
      "5\n"
     ]
    }
   ],
   "source": [
    "int_1 = 5\n",
    "int_2 = 10\n",
    "\n",
    "print (int_1 + int_2)\n",
    "print (int_1 - int_2)\n",
    "print (int_1 * int_2)\n",
    "print (int_1 / int_2)\n",
    "print (int_1 % int_2)\n"
   ]
  },
  {
   "cell_type": "code",
   "execution_count": 20,
   "metadata": {},
   "outputs": [
    {
     "name": "stdout",
     "output_type": "stream",
     "text": [
      "15.7\n",
      "-4.699999999999999\n",
      "56.099999999999994\n",
      "0.5392156862745099\n",
      "5.5\n"
     ]
    }
   ],
   "source": [
    "float_1 = 5.5\n",
    "float_2 = 10.2\n",
    "\n",
    "\n",
    "print (float_1 + float_2)\n",
    "print (float_1 - float_2)\n",
    "print (float_1 * float_2)\n",
    "print (float_1 / float_2)\n",
    "print (float_1 % float_2)\n"
   ]
  },
  {
   "cell_type": "code",
   "execution_count": 21,
   "metadata": {},
   "outputs": [
    {
     "name": "stdout",
     "output_type": "stream",
     "text": [
      "Atstumas iki saules yra 390.625 kartu didesnis nei atstumas iki menulio \n",
      "2560.0\n",
      "106.66666666666667\n",
      "3.5555555555555554\n"
     ]
    }
   ],
   "source": [
    "dist_sun = 150_000_000\n",
    "dist_moon = 384_000\n",
    "\n",
    "speed_per_hour = 150\n",
    "\n",
    "day = speed_per_hour * 24\n",
    "month = day * 30\n",
    "\n",
    "\n",
    "print (f'Atstumas iki saules yra {dist_sun / dist_moon} kartu didesnis nei atstumas iki menulio ')\n",
    "\n",
    "print(dist_moon/speed_per_hour)\n",
    "print(dist_moon/day)\n",
    "print(dist_moon/month)\n",
    "\n"
   ]
  },
  {
   "cell_type": "code",
   "execution_count": 22,
   "metadata": {},
   "outputs": [
    {
     "name": "stdout",
     "output_type": "stream",
     "text": [
      "9913 days, 21:02:49.761508\n",
      "9913\n"
     ]
    }
   ],
   "source": [
    "from datetime import datetime\n",
    "\n",
    "birthday =datetime(1995, 7,12)\n",
    "now = datetime.now()\n",
    "time_passed = now -birthday\n",
    "print (time_passed)\n",
    "print (time_passed.days)\n"
   ]
  },
  {
   "cell_type": "code",
   "execution_count": 23,
   "metadata": {},
   "outputs": [
    {
     "name": "stdout",
     "output_type": "stream",
     "text": [
      "384000\n"
     ]
    }
   ],
   "source": [
    "atstumas = 384_000\n",
    "print(atstumas)\n"
   ]
  },
  {
   "cell_type": "code",
   "execution_count": 24,
   "metadata": {},
   "outputs": [
    {
     "name": "stdout",
     "output_type": "stream",
     "text": [
      "<class 'bool'>\n",
      "False\n",
      "True\n"
     ]
    }
   ],
   "source": [
    "bool_1 = True\n",
    "bool_2 = False\n",
    "print( type(bool_1) )\n",
    "number = 0\n",
    "print( bool(number) )\n",
    "number =0.5\n",
    "print( bool(number) )\n",
    "# false tampa tik 0, visi kiti trye\n"
   ]
  },
  {
   "cell_type": "code",
   "execution_count": 25,
   "metadata": {},
   "outputs": [
    {
     "name": "stdout",
     "output_type": "stream",
     "text": [
      "False\n",
      "True\n",
      "False\n",
      "True\n",
      "False\n",
      "False\n",
      "nelygus\n",
      "True\n",
      "False\n"
     ]
    }
   ],
   "source": [
    "print (2 >5)\n",
    "print (2 <5)\n",
    "print (5 >5)\n",
    "print (5 >= 5)\n",
    "print (2 == 5)\n",
    "print (10 == 5)\n",
    "\n",
    "print ('nelygus')\n",
    "print (10 != 5)\n",
    "print (10 != 10)\n",
    "\n"
   ]
  },
  {
   "cell_type": "code",
   "execution_count": 26,
   "metadata": {},
   "outputs": [
    {
     "name": "stdout",
     "output_type": "stream",
     "text": [
      "False\n"
     ]
    }
   ],
   "source": [
    "text = 'hello world'\n",
    "bool_4 = 'Lithuania' in text\n",
    "print (bool_4)"
   ]
  },
  {
   "cell_type": "code",
   "execution_count": 27,
   "metadata": {},
   "outputs": [
    {
     "name": "stdout",
     "output_type": "stream",
     "text": [
      "True\n",
      "False\n",
      "True\n"
     ]
    }
   ],
   "source": [
    "print (bool_1)\n",
    "print(bool_1 == 0.999)\n",
    "print(bool_1 == bool(0.999) )\n"
   ]
  },
  {
   "cell_type": "code",
   "execution_count": 28,
   "metadata": {},
   "outputs": [
    {
     "name": "stdout",
     "output_type": "stream",
     "text": [
      "True\n",
      "True\n",
      "True\n"
     ]
    }
   ],
   "source": [
    "print (bool(0.01))\n",
    "print (bool(0.01))\n",
    "print (bool('hello'))\n"
   ]
  },
  {
   "cell_type": "code",
   "execution_count": 29,
   "metadata": {},
   "outputs": [
    {
     "name": "stdout",
     "output_type": "stream",
     "text": [
      "True\n",
      "False\n",
      "False\n"
     ]
    }
   ],
   "source": [
    "print ( True)\n",
    "print (not True)\n",
    "print (not not not not not True)"
   ]
  },
  {
   "cell_type": "code",
   "execution_count": 30,
   "metadata": {},
   "outputs": [
    {
     "name": "stdout",
     "output_type": "stream",
     "text": [
      "True\n",
      "False\n",
      "False\n",
      "False\n"
     ]
    }
   ],
   "source": [
    "print (20 > 10 and 5 > 1)\n",
    "print (20 > 10 and 5 > 10)\n",
    "\n",
    "print (20 > 10 and 5 > 10)\n",
    "print (20 > 10 and 5 > 10)"
   ]
  },
  {
   "cell_type": "code",
   "execution_count": 31,
   "metadata": {},
   "outputs": [
    {
     "data": {
      "text/plain": [
       "True"
      ]
     },
     "execution_count": 31,
     "metadata": {},
     "output_type": "execute_result"
    }
   ],
   "source": [
    "'hello' in 'hello world' and 5 >1 or 52 < 52"
   ]
  },
  {
   "cell_type": "code",
   "execution_count": 32,
   "metadata": {},
   "outputs": [
    {
     "data": {
      "text/plain": [
       "False"
      ]
     },
     "execution_count": 32,
     "metadata": {},
     "output_type": "execute_result"
    }
   ],
   "source": [
    "True == 1\n",
    "\n",
    "True == 2"
   ]
  },
  {
   "cell_type": "markdown",
   "metadata": {},
   "source": [
    "### Lists"
   ]
  },
  {
   "cell_type": "code",
   "execution_count": 33,
   "metadata": {},
   "outputs": [],
   "source": [
    "cities = [ 'vilnius', 'kaunas', 'klaipeda' ]"
   ]
  },
  {
   "cell_type": "code",
   "execution_count": 34,
   "metadata": {},
   "outputs": [
    {
     "name": "stdout",
     "output_type": "stream",
     "text": [
      "vilnius\n",
      "<class 'str'>\n",
      "klaipeda\n",
      "[8546, 847, 358]\n",
      "6\n"
     ]
    }
   ],
   "source": [
    "numbers = [ 1,8546,847,358,'vienas']\n",
    "print( cities[0])\n",
    "print( type( cities[0] ) )\n",
    "print( cities[-1] )\n",
    "print( numbers[1:4] )\n",
    "print (len(numbers[-1] ) )"
   ]
  },
  {
   "cell_type": "code",
   "execution_count": 35,
   "metadata": {},
   "outputs": [
    {
     "name": "stdout",
     "output_type": "stream",
     "text": [
      "[1, 8546, 847, 358, 'vienas', 500, 500, 10]\n"
     ]
    }
   ],
   "source": [
    "numbers = [ 1,8546,847,358,'vienas']\n",
    "numbers.append(500)\n",
    "numbers.append(500)\n",
    "numbers.append(10)\n",
    "print (numbers)"
   ]
  },
  {
   "cell_type": "code",
   "execution_count": 36,
   "metadata": {},
   "outputs": [
    {
     "name": "stdout",
     "output_type": "stream",
     "text": [
      "[1, 8546, 847, 358, 'vienas', 500, 500, 10]\n"
     ]
    }
   ],
   "source": [
    "# updates list\n",
    "# numbers.append(10)\n",
    "print (numbers)"
   ]
  },
  {
   "cell_type": "code",
   "execution_count": 37,
   "metadata": {},
   "outputs": [
    {
     "data": {
      "text/plain": [
       "1"
      ]
     },
     "execution_count": 37,
     "metadata": {},
     "output_type": "execute_result"
    }
   ],
   "source": [
    "numbers.count(10)"
   ]
  },
  {
   "cell_type": "code",
   "execution_count": 38,
   "metadata": {},
   "outputs": [
    {
     "name": "stdout",
     "output_type": "stream",
     "text": [
      "[1, 8546, 1000, 847, 358, 'vienas', 500, 500, 10]\n"
     ]
    }
   ],
   "source": [
    "numbers.insert(2, 1000)\n",
    "print (numbers)"
   ]
  },
  {
   "cell_type": "code",
   "execution_count": 39,
   "metadata": {},
   "outputs": [
    {
     "name": "stdout",
     "output_type": "stream",
     "text": [
      "1000\n",
      "[1, 8546, 847, 358, 'vienas', 500, 500, 10]\n"
     ]
    }
   ],
   "source": [
    "\n",
    "print (numbers.pop(2) )\n",
    "print (numbers)"
   ]
  },
  {
   "cell_type": "code",
   "execution_count": 40,
   "metadata": {},
   "outputs": [
    {
     "ename": "ValueError",
     "evalue": "list.remove(x): x not in list",
     "output_type": "error",
     "traceback": [
      "\u001b[1;31m---------------------------------------------------------------------------\u001b[0m",
      "\u001b[1;31mValueError\u001b[0m                                Traceback (most recent call last)",
      "\u001b[1;32mc:\\Users\\Rytis\\Documents\\ex-parrot\\lesson_2.ipynb Cell 41\u001b[0m in \u001b[0;36m<cell line: 1>\u001b[1;34m()\u001b[0m\n\u001b[1;32m----> <a href='vscode-notebook-cell:/c%3A/Users/Rytis/Documents/ex-parrot/lesson_2.ipynb#X64sZmlsZQ%3D%3D?line=0'>1</a>\u001b[0m \u001b[39mprint\u001b[39m (numbers\u001b[39m.\u001b[39;49mremove(\u001b[39m1000\u001b[39;49m) )\n\u001b[0;32m      <a href='vscode-notebook-cell:/c%3A/Users/Rytis/Documents/ex-parrot/lesson_2.ipynb#X64sZmlsZQ%3D%3D?line=1'>2</a>\u001b[0m \u001b[39mprint\u001b[39m (numbers)\n",
      "\u001b[1;31mValueError\u001b[0m: list.remove(x): x not in list"
     ]
    }
   ],
   "source": [
    "print (numbers.remove(1000) )\n",
    "print (numbers)"
   ]
  },
  {
   "cell_type": "code",
   "execution_count": 41,
   "metadata": {},
   "outputs": [
    {
     "name": "stdout",
     "output_type": "stream",
     "text": [
      "[1, 8546, 847, 358, 'vienas', 500, 500, 10, 999, 999]\n",
      "[1, 8546, 847, 358, 'vienas', 500, 500, 10, 999, 999, [888, 888]]\n"
     ]
    }
   ],
   "source": [
    "numbers.extend( [999, 999] )\n",
    "print(numbers)\n",
    "numbers.append( [888, 888] )\n",
    "print(numbers)"
   ]
  },
  {
   "cell_type": "code",
   "execution_count": 44,
   "metadata": {},
   "outputs": [
    {
     "name": "stdout",
     "output_type": "stream",
     "text": [
      "[888, 888]\n",
      "<class 'list'>\n"
     ]
    }
   ],
   "source": [
    "print (numbers[-1])\n",
    "print (type(numbers[-1] ) )"
   ]
  },
  {
   "cell_type": "code",
   "execution_count": 46,
   "metadata": {},
   "outputs": [
    {
     "name": "stdout",
     "output_type": "stream",
     "text": [
      "65\n"
     ]
    }
   ],
   "source": [
    "nested_list = [654, [[[[['65']]], 57]]]\n",
    "print (nested_list[1][0][0][0][0][0] )\n"
   ]
  },
  {
   "cell_type": "code",
   "execution_count": 51,
   "metadata": {},
   "outputs": [
    {
     "name": "stdout",
     "output_type": "stream",
     "text": [
      "[1, 8546, 847, 358, 'vienas', 500, 500, 10, 999, 999, [888, 888]]\n"
     ]
    }
   ],
   "source": [
    "print (numbers)"
   ]
  },
  {
   "cell_type": "code",
   "execution_count": 65,
   "metadata": {},
   "outputs": [
    {
     "name": "stdout",
     "output_type": "stream",
     "text": [
      "None\n",
      "[1, 8546, 847, 358, 'vienas', 500, 500, 10, 999, 999, [888, 888]]\n"
     ]
    }
   ],
   "source": [
    "print( numbers.reverse())\n",
    "print(numbers)"
   ]
  },
  {
   "cell_type": "code",
   "execution_count": 75,
   "metadata": {},
   "outputs": [
    {
     "name": "stdout",
     "output_type": "stream",
     "text": [
      "[[888, 888], 999, 999, 10, 500, 500, 'vienas', 358, 847, 8546, 1]\n",
      "[[888, 888], 999, 500, 'vienas', 847, 1]\n"
     ]
    }
   ],
   "source": [
    "print ( numbers[::-1] )\n",
    "print ( numbers[::-2] )"
   ]
  },
  {
   "cell_type": "code",
   "execution_count": 82,
   "metadata": {},
   "outputs": [
    {
     "ename": "TypeError",
     "evalue": "'<' not supported between instances of 'list' and 'int'",
     "output_type": "error",
     "traceback": [
      "\u001b[1;31m---------------------------------------------------------------------------\u001b[0m",
      "\u001b[1;31mTypeError\u001b[0m                                 Traceback (most recent call last)",
      "\u001b[1;32mc:\\Users\\Rytis\\Documents\\ex-parrot\\lesson_2.ipynb Cell 48\u001b[0m in \u001b[0;36m<cell line: 2>\u001b[1;34m()\u001b[0m\n\u001b[0;32m      <a href='vscode-notebook-cell:/c%3A/Users/Rytis/Documents/ex-parrot/lesson_2.ipynb#Y106sZmlsZQ%3D%3D?line=0'>1</a>\u001b[0m numbers \u001b[39m=\u001b[39m [\u001b[39m1\u001b[39m, \u001b[39m8546\u001b[39m, \u001b[39m847\u001b[39m, \u001b[39m358\u001b[39m, \u001b[39m500\u001b[39m, \u001b[39m500\u001b[39m, \u001b[39m10\u001b[39m, \u001b[39m999\u001b[39m, \u001b[39m999\u001b[39m, [\u001b[39m888\u001b[39m, \u001b[39m888\u001b[39m]]\n\u001b[1;32m----> <a href='vscode-notebook-cell:/c%3A/Users/Rytis/Documents/ex-parrot/lesson_2.ipynb#Y106sZmlsZQ%3D%3D?line=1'>2</a>\u001b[0m numbers\u001b[39m.\u001b[39;49msort(reverse\u001b[39m=\u001b[39;49m\u001b[39mFalse\u001b[39;49;00m)\n\u001b[0;32m      <a href='vscode-notebook-cell:/c%3A/Users/Rytis/Documents/ex-parrot/lesson_2.ipynb#Y106sZmlsZQ%3D%3D?line=2'>3</a>\u001b[0m \u001b[39mprint\u001b[39m (numbers)\n\u001b[0;32m      <a href='vscode-notebook-cell:/c%3A/Users/Rytis/Documents/ex-parrot/lesson_2.ipynb#Y106sZmlsZQ%3D%3D?line=3'>4</a>\u001b[0m numbers\u001b[39m.\u001b[39msort(reverse\u001b[39m=\u001b[39m\u001b[39mTrue\u001b[39;00m)\n",
      "\u001b[1;31mTypeError\u001b[0m: '<' not supported between instances of 'list' and 'int'"
     ]
    }
   ],
   "source": [
    "numbers = [1, 8546, 847, 358, 500, 500, 10, 999, 999, [888, 888]]\n",
    "numbers.sort(reverse=False)\n",
    "print (numbers)\n",
    "numbers.sort(reverse=True)\n",
    "print (numbers)"
   ]
  },
  {
   "cell_type": "code",
   "execution_count": 85,
   "metadata": {},
   "outputs": [
    {
     "name": "stdout",
     "output_type": "stream",
     "text": [
      "['vilnius', 'kaunas', 'Siauliai']\n",
      "['vilnius', 'kaunas', 'Siauliai']\n"
     ]
    }
   ],
   "source": [
    "print ( cities)\n",
    "cities[2] = \"Siauliai\"\n",
    "print (cities)\n"
   ]
  },
  {
   "cell_type": "code",
   "execution_count": 87,
   "metadata": {},
   "outputs": [
    {
     "data": {
      "text/plain": [
       "False"
      ]
     },
     "execution_count": 87,
     "metadata": {},
     "output_type": "execute_result"
    }
   ],
   "source": [
    "\"vilnius\" in cities\n",
    "\"kedainiai\" in cities"
   ]
  },
  {
   "cell_type": "code",
   "execution_count": 89,
   "metadata": {},
   "outputs": [
    {
     "name": "stdout",
     "output_type": "stream",
     "text": [
      "False\n",
      "True\n"
     ]
    }
   ],
   "source": [
    "print( bool( [] ) )\n",
    "print( bool( cities ) )"
   ]
  },
  {
   "cell_type": "code",
   "execution_count": 91,
   "metadata": {},
   "outputs": [
    {
     "name": "stdout",
     "output_type": "stream",
     "text": [
      "[1, 2, 3, 'a', 'b', 'c']\n"
     ]
    }
   ],
   "source": [
    "combined_list = [1,2,3] + [\"a\", \"b\", \"c\"]\n",
    "print (combined_list)"
   ]
  },
  {
   "cell_type": "code",
   "execution_count": 92,
   "metadata": {},
   "outputs": [
    {
     "name": "stdout",
     "output_type": "stream",
     "text": [
      "[1, 2, 'a', 1, 2, 'a', 1, 2, 'a', 1, 2, 'a', 1, 2, 'a', 1, 2, 'a', 1, 2, 'a', 1, 2, 'a', 1, 2, 'a', 1, 2, 'a', 1, 2, 'a', 1, 2, 'a', 1, 2, 'a', 1, 2, 'a', 1, 2, 'a', 1, 2, 'a', 1, 2, 'a', 1, 2, 'a', 1, 2, 'a', 1, 2, 'a', 1, 2, 'a', 1, 2, 'a', 1, 2, 'a', 1, 2, 'a', 1, 2, 'a', 1, 2, 'a', 1, 2, 'a', 1, 2, 'a', 1, 2, 'a', 1, 2, 'a', 1, 2, 'a', 1, 2, 'a', 1, 2, 'a', 1, 2, 'a', 1, 2, 'a', 1, 2, 'a', 1, 2, 'a', 1, 2, 'a', 1, 2, 'a', 1, 2, 'a', 1, 2, 'a', 1, 2, 'a', 1, 2, 'a', 1, 2, 'a', 1, 2, 'a', 1, 2, 'a', 1, 2, 'a', 1, 2, 'a', 1, 2, 'a', 1, 2, 'a', 1, 2, 'a', 1, 2, 'a', 1, 2, 'a', 1, 2, 'a', 1, 2, 'a', 1, 2, 'a', 1, 2, 'a', 1, 2, 'a', 1, 2, 'a', 1, 2, 'a', 1, 2, 'a', 1, 2, 'a', 1, 2, 'a', 1, 2, 'a', 1, 2, 'a', 1, 2, 'a', 1, 2, 'a', 1, 2, 'a', 1, 2, 'a', 1, 2, 'a', 1, 2, 'a', 1, 2, 'a', 1, 2, 'a', 1, 2, 'a', 1, 2, 'a', 1, 2, 'a', 1, 2, 'a', 1, 2, 'a', 1, 2, 'a', 1, 2, 'a', 1, 2, 'a', 1, 2, 'a', 1, 2, 'a', 1, 2, 'a', 1, 2, 'a', 1, 2, 'a', 1, 2, 'a', 1, 2, 'a', 1, 2, 'a', 1, 2, 'a', 1, 2, 'a', 1, 2, 'a', 1, 2, 'a', 1, 2, 'a', 1, 2, 'a', 1, 2, 'a', 1, 2, 'a', 1, 2, 'a', 1, 2, 'a', 1, 2, 'a', 1, 2, 'a', 1, 2, 'a', 1, 2, 'a', 1, 2, 'a', 1, 2, 'a', 1, 2, 'a', 1, 2, 'a', 1, 2, 'a', 1, 2, 'a', 1, 2, 'a', 1, 2, 'a', 1, 2, 'a', 1, 2, 'a', 1, 2, 'a', 1, 2, 'a', 1, 2, 'a', 1, 2, 'a', 1, 2, 'a', 1, 2, 'a', 1, 2, 'a', 1, 2, 'a', 1, 2, 'a', 1, 2, 'a', 1, 2, 'a', 1, 2, 'a', 1, 2, 'a', 1, 2, 'a', 1, 2, 'a', 1, 2, 'a', 1, 2, 'a', 1, 2, 'a', 1, 2, 'a', 1, 2, 'a', 1, 2, 'a', 1, 2, 'a', 1, 2, 'a', 1, 2, 'a', 1, 2, 'a', 1, 2, 'a', 1, 2, 'a', 1, 2, 'a', 1, 2, 'a', 1, 2, 'a', 1, 2, 'a', 1, 2, 'a', 1, 2, 'a', 1, 2, 'a', 1, 2, 'a', 1, 2, 'a', 1, 2, 'a', 1, 2, 'a', 1, 2, 'a', 1, 2, 'a', 1, 2, 'a', 1, 2, 'a', 1, 2, 'a', 1, 2, 'a', 1, 2, 'a', 1, 2, 'a', 1, 2, 'a', 1, 2, 'a', 1, 2, 'a', 1, 2, 'a', 1, 2, 'a', 1, 2, 'a', 1, 2, 'a', 1, 2, 'a', 1, 2, 'a', 1, 2, 'a', 1, 2, 'a', 1, 2, 'a', 1, 2, 'a', 1, 2, 'a', 1, 2, 'a', 1, 2, 'a', 1, 2, 'a', 1, 2, 'a', 1, 2, 'a', 1, 2, 'a', 1, 2, 'a']\n"
     ]
    }
   ],
   "source": [
    "mult_list = [1,2,\"a\"] * 180\n",
    "print (mult_list)"
   ]
  },
  {
   "cell_type": "code",
   "execution_count": 96,
   "metadata": {},
   "outputs": [
    {
     "name": "stdout",
     "output_type": "stream",
     "text": [
      "25\n",
      "16.666666666666668\n"
     ]
    }
   ],
   "source": [
    "c = 5\n",
    "c = c +10\n",
    "c += 10\n",
    "print (c)\n",
    "c *= 2\n",
    "c /= 3\n",
    "print (c)"
   ]
  },
  {
   "cell_type": "code",
   "execution_count": 106,
   "metadata": {},
   "outputs": [
    {
     "name": "stdout",
     "output_type": "stream",
     "text": [
      "3\n",
      "4\n"
     ]
    }
   ],
   "source": [
    "cities = [ 'vilnius', 'kaunas', 'klaipeda' ]\n",
    "\n",
    "print (len(cities))\n",
    "\n",
    "cities.append(\"kedainiai\")\n",
    "\n",
    "print (len(cities))"
   ]
  }
 ],
 "metadata": {
  "kernelspec": {
   "display_name": "Python 3.10.6 64-bit",
   "language": "python",
   "name": "python3"
  },
  "language_info": {
   "codemirror_mode": {
    "name": "ipython",
    "version": 3
   },
   "file_extension": ".py",
   "mimetype": "text/x-python",
   "name": "python",
   "nbconvert_exporter": "python",
   "pygments_lexer": "ipython3",
   "version": "3.10.6"
  },
  "orig_nbformat": 4,
  "vscode": {
   "interpreter": {
    "hash": "2cf7131fc232bf4a2caaa37e91e86e6feacb8b11ef6869c73bb3d01b89c35ea3"
   }
  }
 },
 "nbformat": 4,
 "nbformat_minor": 2
}
